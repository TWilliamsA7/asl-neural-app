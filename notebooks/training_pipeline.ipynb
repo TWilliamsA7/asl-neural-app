{
  "cells": [
    {
      "cell_type": "markdown",
      "source": [
        "# ASL Neural Network Training Pipeline\n",
        "\n",
        "This notebook contains the code for constructing, compiling, and training a neural network on ASL alphabet signs."
      ],
      "metadata": {
        "id": "hMtXs9ziukhF"
      },
      "id": "hMtXs9ziukhF"
    },
    {
      "cell_type": "markdown",
      "source": [
        "## Install Dependencies"
      ],
      "metadata": {
        "id": "iO8bvcMku7vw"
      },
      "id": "iO8bvcMku7vw"
    },
    {
      "cell_type": "code",
      "source": [
        "# Use pip to install everything in requirements.txt\n",
        "!pip install -r requirements.txt"
      ],
      "metadata": {
        "id": "T9mI9lQ7u_m2"
      },
      "id": "T9mI9lQ7u_m2",
      "execution_count": null,
      "outputs": []
    },
    {
      "cell_type": "markdown",
      "source": [
        "## Connect Source Folder and Modules"
      ],
      "metadata": {
        "id": "hI58GegeviTt"
      },
      "id": "hI58GegeviTt"
    },
    {
      "cell_type": "code",
      "source": [
        "import sys\n",
        "# Add src folder to the Python path\n",
        "sys.path.append('src')"
      ],
      "metadata": {
        "id": "GKHrfy9tvnCc"
      },
      "id": "GKHrfy9tvnCc",
      "execution_count": null,
      "outputs": []
    }
  ],
  "metadata": {
    "language_info": {
      "name": "python"
    },
    "colab": {
      "provenance": []
    }
  },
  "nbformat": 4,
  "nbformat_minor": 5
}